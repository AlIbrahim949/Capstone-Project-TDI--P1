{
 "cells": [
  {
   "cell_type": "markdown",
   "metadata": {},
   "source": [
    "# Section 2"
   ]
  },
  {
   "cell_type": "code",
   "execution_count": 1,
   "metadata": {},
   "outputs": [],
   "source": [
    "import numpy as np\n",
    "import pandas as pd\n",
    "import matplotlib.pyplot as plt\n",
    "import statsmodels.api as sm\n",
    "import seaborn as sns\n",
    "import datetime\n",
    "sns.set()\n"
   ]
  },
  {
   "cell_type": "code",
   "execution_count": 2,
   "metadata": {},
   "outputs": [],
   "source": [
    "def ndim_grid(start,stop):\n",
    "    \n",
    "    ndims = len(start)\n",
    "    \n",
    "    L = [np.arange(start[i],stop[i]) for i in range(ndims)]\n",
    "    \n",
    "    return np.hstack((np.meshgrid(*L))).swapaxes(0,1).reshape(ndims,-1).T"
   ]
  },
  {
   "cell_type": "code",
   "execution_count": 3,
   "metadata": {},
   "outputs": [
    {
     "data": {
      "text/plain": [
       "array([[ 0,  0,  0,  0],\n",
       "       [ 0,  0,  0,  1],\n",
       "       [ 0,  0,  0,  2],\n",
       "       ...,\n",
       "       [40, 40, 40, 38],\n",
       "       [40, 40, 40, 39],\n",
       "       [40, 40, 40, 40]])"
      ]
     },
     "execution_count": 3,
     "metadata": {},
     "output_type": "execute_result"
    }
   ],
   "source": [
    "start = [0,0,0,0]\n",
    "stop = [41,41,41,41]\n",
    "x = ndim_grid(start,stop)\n",
    "x"
   ]
  },
  {
   "cell_type": "markdown",
   "metadata": {},
   "source": [
    "# Question 1 - How many valid walks start from the corner (0, 0, 0, 0)?"
   ]
  },
  {
   "cell_type": "code",
   "execution_count": 4,
   "metadata": {},
   "outputs": [
    {
     "name": "stdout",
     "output_type": "stream",
     "text": [
      "The number of valid walks start from the corner (0, 0, 0, 0) = 10004\n"
     ]
    }
   ],
   "source": [
    "d=4\n",
    "n=10\n",
    "m=10\n",
    "print(\"The number of valid walks start from the corner (0, 0, 0, 0) =\", m**d+d)"
   ]
  },
  {
   "cell_type": "markdown",
   "metadata": {},
   "source": []
  },
  {
   "cell_type": "markdown",
   "metadata": {},
   "source": [
    "# Question 2 - What is the ratio of the highest count of valid walks to smallest count of valid walks?"
   ]
  },
  {
   "cell_type": "code",
   "execution_count": 5,
   "metadata": {},
   "outputs": [
    {
     "data": {
      "text/plain": [
       "1.0003998400639744"
      ]
     },
     "execution_count": 5,
     "metadata": {},
     "output_type": "execute_result"
    }
   ],
   "source": [
    "Ratio = (m**d+d*2)/(m**d+d)\n",
    "Ratio"
   ]
  },
  {
   "cell_type": "markdown",
   "metadata": {},
   "source": []
  },
  {
   "cell_type": "markdown",
   "metadata": {},
   "source": [
    "# Question 3 - What is the ratio of the standard deviation of the number of valid walks to the mean of the number of valid walks?"
   ]
  },
  {
   "cell_type": "code",
   "execution_count": 6,
   "metadata": {},
   "outputs": [
    {
     "data": {
      "text/plain": [
       "[10004, 10005, 10006, 10007, 10008]"
      ]
     },
     "execution_count": 6,
     "metadata": {},
     "output_type": "execute_result"
    }
   ],
   "source": [
    "q3 = [m**d+4,m**d+5,m**d+6,m**d+7,m**d+8]\n",
    "q3"
   ]
  },
  {
   "cell_type": "code",
   "execution_count": 7,
   "metadata": {},
   "outputs": [
    {
     "name": "stdout",
     "output_type": "stream",
     "text": [
      " The mean, stdev  and ratio are 10006.0 , 1.5811388300841898 and 0.0001580190715654797 respectively\n"
     ]
    }
   ],
   "source": [
    "q3_mean = sum(q3)/len(q3)\n",
    "import statistics\n",
    "q3_stddev = statistics.stdev(q3)\n",
    "q3_Ratio = q3_stddev/q3_mean\n",
    "print(\" The mean, stdev  and ratio are\",q3_mean,\",\", q3_stddev,\"and\", q3_Ratio,\"respectively\")"
   ]
  },
  {
   "cell_type": "markdown",
   "metadata": {},
   "source": []
  },
  {
   "cell_type": "code",
   "execution_count": 8,
   "metadata": {},
   "outputs": [
    {
     "data": {
      "text/plain": [
       "array([[ 0,  0,  0,  0],\n",
       "       [ 0,  0,  0,  1],\n",
       "       [ 0,  0,  0,  2],\n",
       "       ...,\n",
       "       [80, 80, 80, 78],\n",
       "       [80, 80, 80, 79],\n",
       "       [80, 80, 80, 80]])"
      ]
     },
     "execution_count": 8,
     "metadata": {},
     "output_type": "execute_result"
    }
   ],
   "source": [
    "start = [0,0,0,0]\n",
    "stop = [81,81,81,81,81,81,81,81]\n",
    "x = ndim_grid(start,stop)\n",
    "x"
   ]
  },
  {
   "cell_type": "markdown",
   "metadata": {},
   "source": []
  },
  {
   "cell_type": "markdown",
   "metadata": {},
   "source": [
    "# Question 4 - How many valid walks start from one of the corners?"
   ]
  },
  {
   "cell_type": "code",
   "execution_count": 9,
   "metadata": {},
   "outputs": [
    {
     "name": "stdout",
     "output_type": "stream",
     "text": [
      "The number of valid walks start from the corner (0, 0, 0, 0) = 429981704\n"
     ]
    }
   ],
   "source": [
    "d=8\n",
    "n=12\n",
    "m=12\n",
    "print(\"The number of valid walks start from the corner (0, 0, 0, 0) =\", m**d+d)"
   ]
  },
  {
   "cell_type": "markdown",
   "metadata": {},
   "source": [
    "# Question 5 - What is the ratio of the highest count of valid walks to smallest count of valid walks?"
   ]
  },
  {
   "cell_type": "code",
   "execution_count": 10,
   "metadata": {},
   "outputs": [
    {
     "data": {
      "text/plain": [
       "1.0000000186054427"
      ]
     },
     "execution_count": 10,
     "metadata": {},
     "output_type": "execute_result"
    }
   ],
   "source": [
    "Ratio = (m**d+d*2)/(m**d+d)\n",
    "Ratio"
   ]
  },
  {
   "cell_type": "markdown",
   "metadata": {},
   "source": []
  },
  {
   "cell_type": "code",
   "execution_count": 11,
   "metadata": {
    "scrolled": true
   },
   "outputs": [
    {
     "data": {
      "text/plain": [
       "[429981704,\n",
       " 429981705,\n",
       " 429981706,\n",
       " 429981707,\n",
       " 429981708,\n",
       " 429981709,\n",
       " 429981710,\n",
       " 429981711,\n",
       " 429981712]"
      ]
     },
     "execution_count": 11,
     "metadata": {},
     "output_type": "execute_result"
    }
   ],
   "source": [
    "q3 = [m**d+8,m**d+9,m**d+10,m**d+11,m**d+12,m**d+13,m**d+14,m**d+15,m**d+16]\n",
    "q3"
   ]
  },
  {
   "cell_type": "markdown",
   "metadata": {},
   "source": []
  },
  {
   "cell_type": "markdown",
   "metadata": {},
   "source": [
    "# Question 6 -  What is the ratio of the standard deviation of the number of valid walks to the mean of the number of valid walks?"
   ]
  },
  {
   "cell_type": "code",
   "execution_count": 12,
   "metadata": {},
   "outputs": [
    {
     "name": "stdout",
     "output_type": "stream",
     "text": [
      " The mean, stdev  and ratio are 429981708.0 , 2.7386127875258306 and 6.369137887897851e-09 respectively\n"
     ]
    }
   ],
   "source": [
    "q3_mean = sum(q3)/len(q3)\n",
    "import statistics\n",
    "q3_stddev = statistics.stdev(q3)\n",
    "q3_Ratio = q3_stddev/q3_mean\n",
    "print(\" The mean, stdev  and ratio are\",q3_mean,\",\", q3_stddev,\"and\", q3_Ratio,\"respectively\")"
   ]
  }
 ],
 "metadata": {
  "kernelspec": {
   "display_name": "Python 3",
   "language": "python",
   "name": "python3"
  },
  "language_info": {
   "codemirror_mode": {
    "name": "ipython",
    "version": 3
   },
   "file_extension": ".py",
   "mimetype": "text/x-python",
   "name": "python",
   "nbconvert_exporter": "python",
   "pygments_lexer": "ipython3",
   "version": "3.7.3"
  }
 },
 "nbformat": 4,
 "nbformat_minor": 2
}
